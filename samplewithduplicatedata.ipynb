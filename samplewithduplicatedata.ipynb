{
 "cells": [
  {
   "cell_type": "code",
   "execution_count": null,
   "metadata": {},
   "outputs": [],
   "source": [
    "import pandas as pd\n",
    "import numpy as np\n",
    "from IPython.display import display"
   ]
  },
  {
   "cell_type": "code",
   "execution_count": null,
   "metadata": {
    "scrolled": true
   },
   "outputs": [],
   "source": [
    "filename = 'C:\\\\Users\\\\Abhishek\\\\Desktop\\\\special\\\\positive.csv'\n",
    "filedata = pd.read_csv(filename)"
   ]
  },
  {
   "cell_type": "code",
   "execution_count": null,
   "metadata": {},
   "outputs": [],
   "source": [
    "data = pd.DataFrame(filedata)\n",
    "data.columns = [\"Review\"]"
   ]
  },
  {
   "cell_type": "code",
   "execution_count": null,
   "metadata": {},
   "outputs": [],
   "source": [
    "data['len']  = np.array([len(str(rev)) for rev in data[\"Review\"]])\n",
    "data['Date'] = pd.Timestamp('2018-04-27')"
   ]
  },
  {
   "cell_type": "code",
   "execution_count": null,
   "metadata": {
    "scrolled": true
   },
   "outputs": [],
   "source": [
    "display(data.head(10))\n",
    "mean = np.mean(data['len'])\n",
    "print(\"The average length of reviews: {}\".format(mean))"
   ]
  },
  {
   "cell_type": "code",
   "execution_count": null,
   "metadata": {},
   "outputs": [],
   "source": [
    "tlen = pd.Series(data=data['len'].values, index=data['Date'])"
   ]
  },
  {
   "cell_type": "code",
   "execution_count": null,
   "metadata": {},
   "outputs": [],
   "source": [
    "from textblob import TextBlob\n",
    "import re\n",
    "\n",
    "def clean_data(review):\n",
    "    return ' '.join(re.sub(\"(@[A-Za-z0-9]+)|([^0-9A-Za-z \\t])|(\\w+:\\/\\/\\S+)\", \" \", review).split())\n",
    "\n",
    "def analize_data(review):\n",
    "        analysis = TextBlob(clean_data(review))\n",
    "        if analysis.sentiment.polarity > 0:\n",
    "            return 1\n",
    "        elif analysis.sentiment.polarity == 0:\n",
    "            return 0\n",
    "        else:\n",
    "            return -1"
   ]
  },
  {
   "cell_type": "code",
   "execution_count": null,
   "metadata": {},
   "outputs": [],
   "source": [
    "data['SA'] = np.array([ analize_data(review) for review in data['Review'] ])\n",
    "display(data.head(20))"
   ]
  },
  {
   "cell_type": "code",
   "execution_count": null,
   "metadata": {},
   "outputs": [],
   "source": [
    "pos_percentage = [ review for index, review in enumerate(data['Review']) if data['SA'][index] > 0]\n",
    "neu_percentage = [ review for index, review in enumerate(data['Review']) if data['SA'][index] == 0]\n",
    "neg_percentage = [ review for index, review in enumerate(data['Review']) if data['SA'][index] < 0]"
   ]
  },
  {
   "cell_type": "code",
   "execution_count": null,
   "metadata": {},
   "outputs": [],
   "source": [
    "x=len(pos_percentage)*100/len(data['Review'])\n",
    "y=len(neu_percentage)*100/len(data['Review'])\n",
    "z=len(neg_percentage)*100/len(data['Review'])"
   ]
  },
  {
   "cell_type": "code",
   "execution_count": null,
   "metadata": {},
   "outputs": [],
   "source": [
    "print(\"Percentage of positive comments: {}%\".format(len(pos_percentage)*100/len(data['Review'])))\n",
    "print(\"Percentage of neutral comments: {}%\".format(len(neu_percentage)*100/len(data['Review'])))\n",
    "print(\"Percentage de negative comments: {}%\".format(len(neg_percentage)*100/len(data['Review'])))"
   ]
  },
  {
   "cell_type": "code",
   "execution_count": null,
   "metadata": {},
   "outputs": [],
   "source": [
    "from matplotlib import pyplot as plt\n",
    "x_axis = [ 'Positive','Neutral','Negative']\n",
    "y_axis = [x,y,z]\n",
    "plt.bar(x_axis,y_axis)\n"
   ]
  },
  {
   "cell_type": "code",
   "execution_count": null,
   "metadata": {},
   "outputs": [],
   "source": []
  }
 ],
 "metadata": {
  "kernelspec": {
   "display_name": "Python 3",
   "language": "python",
   "name": "python3"
  },
  "language_info": {
   "codemirror_mode": {
    "name": "ipython",
    "version": 3
   },
   "file_extension": ".py",
   "mimetype": "text/x-python",
   "name": "python",
   "nbconvert_exporter": "python",
   "pygments_lexer": "ipython3",
   "version": "3.6.5"
  }
 },
 "nbformat": 4,
 "nbformat_minor": 2
}
